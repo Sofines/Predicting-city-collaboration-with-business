{
  "cells": [
    {
      "cell_type": "markdown",
      "metadata": {
        "id": "view-in-github",
        "colab_type": "text"
      },
      "source": [
        "<a href=\"https://colab.research.google.com/github/tesnimkh/Predicting-city-collaboration-with-business/blob/main/Predicting_city_collaboration_with_business.ipynb\" target=\"_parent\"><img src=\"https://colab.research.google.com/assets/colab-badge.svg\" alt=\"Open In Colab\"/></a>"
      ]
    },
    {
      "source": [
        "\n",
        "# IMPORTANT: RUN THIS CELL IN ORDER TO IMPORT YOUR KAGGLE DATA SOURCES\n",
        "# TO THE CORRECT LOCATION (/kaggle/input) IN YOUR NOTEBOOK,\n",
        "# THEN FEEL FREE TO DELETE THIS CELL.\n",
        "# NOTE: THIS NOTEBOOK ENVIRONMENT DIFFERS FROM KAGGLE'S R\n",
        "# ENVIRONMENT SO THERE MAY BE MISSING LIBRARIES USED BY YOUR\n",
        "# NOTEBOOK.\n",
        "\n",
        "DATA_SOURCE_MAPPING = 'co2-emissions:https%3A%2F%2Fstorage.googleapis.com%2Fkaggle-data-sets%2F930654%2F1574269%2Fbundle%2Farchive.zip%3FX-Goog-Algorithm%3DGOOG4-RSA-SHA256%26X-Goog-Credential%3Dgcp-kaggle-com%2540kaggle-161607.iam.gserviceaccount.com%252F20240619%252Fauto%252Fstorage%252Fgoog4_request%26X-Goog-Date%3D20240619T174937Z%26X-Goog-Expires%3D259200%26X-Goog-SignedHeaders%3Dhost%26X-Goog-Signature%3D12d6220fea920daa2b48ecfa436b6292cb81ae926f8925da4ffd511a91d679ca5b0d6645c9229f7dbe5c3a153a10957b8ffff6c94a384cd9d1dc62c52378447c16c19363924533ae6c20e3645d94323e8f90d72b8eb069935a6f47ec820f68668f9faf70a40040aa26aabb6534706a5d21c3351da74e10531c80a51d95a5536a2107a16de3adc9e3156c185fe1b80d252d79ba949c7c0f812fe6352762fc9be91b8f2c25ad67e7b8504c10a6c7ee283287d1617415645fa777c92642e14f601af61f41537a5e8f0bdc6383896c76fc1584257077e93a4964f2f50871ed863ecc5fc2a513cf8b69ca8f6771cd737f7149dfe52c9f74924e458f983dd951a832aa'\n",
        "\n",
        "KAGGLE_INPUT_PATH = '/kaggle/input'\n",
        "KAGGLE_WORKING_PATH = '/kaggle/working'\n",
        "\n",
        "system(paste0('sudo umount ', '/kaggle/input'))\n",
        "system(paste0('sudo rmdir ', '/kaggle/input'))\n",
        "system(paste0('sudo mkdir -p -- ', KAGGLE_INPUT_PATH), intern=TRUE)\n",
        "system(paste0('sudo chmod 777 ', KAGGLE_INPUT_PATH), intern=TRUE)\n",
        "system(\n",
        "  paste0('sudo ln -sfn ', KAGGLE_INPUT_PATH,' ',file.path('..', 'input')),\n",
        "  intern=TRUE)\n",
        "\n",
        "system(paste0('sudo mkdir -p -- ', KAGGLE_WORKING_PATH), intern=TRUE)\n",
        "system(paste0('sudo chmod 777 ', KAGGLE_WORKING_PATH), intern=TRUE)\n",
        "system(\n",
        "  paste0('sudo ln -sfn ', KAGGLE_WORKING_PATH, ' ', file.path('..', 'working')),\n",
        "  intern=TRUE)\n",
        "\n",
        "data_source_mappings = strsplit(DATA_SOURCE_MAPPING, ',')[[1]]\n",
        "for (data_source_mapping in data_source_mappings) {\n",
        "    path_and_url = strsplit(data_source_mapping, ':')\n",
        "    directory = path_and_url[[1]][1]\n",
        "    download_url = URLdecode(path_and_url[[1]][2])\n",
        "    filename = sub(\"\\\\?.+\", \"\", download_url)\n",
        "    destination_path = file.path(KAGGLE_INPUT_PATH, directory)\n",
        "    print(paste0('Downloading and uncompressing: ', directory))\n",
        "    if (endsWith(filename, '.zip')){\n",
        "      temp = tempfile(fileext = '.zip')\n",
        "      download.file(download_url, temp)\n",
        "      unzip(temp, overwrite = TRUE, exdir = destination_path)\n",
        "      unlink(temp)\n",
        "    }\n",
        "    else{\n",
        "      temp = tempfile(fileext = '.tar')\n",
        "      download.file(download_url, temp)\n",
        "      untar(temp, exdir = destination_path)\n",
        "      unlink(temp)\n",
        "    }\n",
        "    print(paste0('Downloaded and uncompressed: ', directory))\n",
        "}\n",
        "\n",
        "print(paste0('Data source import complete'))\n"
      ],
      "metadata": {
        "id": "NkNLSJ30niuF"
      },
      "cell_type": "code",
      "outputs": [],
      "execution_count": null
    },
    {
      "metadata": {
        "id": "9PDrS_86niuM"
      },
      "cell_type": "markdown",
      "source": [
        "## Load packages"
      ]
    },
    {
      "metadata": {
        "_uuid": "051d70d956493feee0c6d64651c6a088724dca2a",
        "_execution_state": "idle",
        "trusted": true,
        "_kg_hide-output": true,
        "id": "ooeFG-t8niuS"
      },
      "cell_type": "code",
      "source": [
        "install.packages(\"RTextTools\")\n",
        "library(dplyr)\n",
        "library(ggplot2)\n",
        "library(RTextTools)\n",
        "library(h2o)\n",
        "library(caret)\n",
        ""
      ],
      "execution_count": null,
      "outputs": []
    },
    {
      "metadata": {
        "id": "pAObuYiOniuW"
      },
      "cell_type": "markdown",
      "source": [
        "## Part 1: Data"
      ]
    },
    {
      "metadata": {
        "trusted": true,
        "id": "oQKZjUAKniuX"
      },
      "cell_type": "code",
      "source": [
        "# Data from : https://ourworldindata.org/grapher/annual-co2-emissions-per-country?tab=chart\n",
        "annual.co2.emissions.per.country <- read.csv(\"../input/co2-emissions/annual-co2-emissions-per-country.csv\")\n",
        "\n",
        "cities_responses_2020 <- read.csv(\"../input/cdp-unlocking-climate-solutions/Cities/Cities Responses/2020_Full_Cities_Dataset.csv\")\n",
        "\n",
        "cities_disclosing_2020 <-read.csv(\"../input/cdp-unlocking-climate-solutions/Cities/Cities Disclosing/2020_Cities_Disclosing_to_CDP.csv\")\n"
      ],
      "execution_count": null,
      "outputs": []
    },
    {
      "metadata": {
        "trusted": true,
        "id": "6Erc5ap7niuZ"
      },
      "cell_type": "code",
      "source": [
        "corporations_responses_2020 <-read.csv(\"../input/cdp-unlocking-climate-solutions/Corporations/Corporations Responses/Climate Change/2020_Full_Climate_Change_Dataset.csv\")\n",
        "\n",
        "\n",
        "corporations_disclosing_2020 <-read.csv(\"../input/cdp-unlocking-climate-solutions/Corporations/Corporations Disclosing/Climate Change/2020_Corporates_Disclosing_to_CDP_Climate_Change.csv\")"
      ],
      "execution_count": null,
      "outputs": []
    },
    {
      "metadata": {
        "id": "_JtRxeGPniub"
      },
      "cell_type": "markdown",
      "source": [
        "## Part 2 : Research Question\n",
        "\n",
        "We want to view the opportunities of cities and corporate corporations identified against climate change through the functions:\n",
        "\n",
        "* printCityOrganization (country, org)\n",
        "* printOpportunitiesCorporation (org)\n",
        "\n",
        "and we want to build a model to predict the type of response that a city organization gives to the question:\n",
        "\n",
        "Does your city collaborate in partnership with businesses in your city on sustainability projects?\n",
        "\n",
        "with the following possible answers:\n",
        "\n",
        "* Yes\n",
        "* In progress\n",
        "* Intending to undertake in the next 2 years\n",
        "* Not intending to undertake\n",
        "* Do not know"
      ]
    },
    {
      "metadata": {
        "id": "jkOy864Nniuc"
      },
      "cell_type": "markdown",
      "source": [
        "## Part 3 : Exploratory Data Analysis"
      ]
    },
    {
      "metadata": {
        "trusted": true,
        "_kg_hide-output": false,
        "id": "H6FIlEStniue"
      },
      "cell_type": "code",
      "source": [
        "annual.co2.emissions.per.country %>%\n",
        "  filter(Year==2018 & !Entity %in% c(\"World\",\"Asia and Pacific (other)\",\"EU-28\",\"Middle East\",\"Americas (other)\",\"Europe (other)\",\"International transport\",\"Statistical differences\",\"Africa\",\"Asia (excl. China & India)\",\"EU-28\" ,\"Europe\",\"Europe (excl. EU-27)\" ,\"Europe (excl. EU-28)\" ,\"International transport\" ,\"North America (excl. USA)\"  ,\"North America\", \"Non KP Annex B\"  ,\"Non KP Annex B\",\"Non-OECD\",\"OECD\" ,\"KP Annex B\",\"Asia\",\"EU-27\" ,\"South America\" )) %>%\n",
        "  mutate(Entity=reorder(Entity,Annual.CO2.emissions))  %>%\n",
        "  top_n(40) %>%\n",
        "   ggplot(aes(Entity,Annual.CO2.emissions, fill=Entity))+\n",
        "  geom_bar(stat=\"identity\")+\n",
        "  coord_flip()+\n",
        "  guides(fill=FALSE)+\n",
        "  geom_text(aes(label=round(Annual.CO2.emissions,2)), hjust=0, size=2)+\n",
        "  ylab(\"CO2 milions tonnes\") +\n",
        "  xlab(\"Country\") +\n",
        "  ggtitle(\"CO2 emissions per Country in 2018\")"
      ],
      "execution_count": null,
      "outputs": []
    },
    {
      "metadata": {
        "trusted": true,
        "_kg_hide-output": false,
        "id": "IozBVrQ-niug"
      },
      "cell_type": "code",
      "source": [
        "cities_disclosing_2020 %>%\n",
        "  group_by(Country) %>%\n",
        "  summarise(total=n()) %>%\n",
        "  mutate(Country=reorder(Country,total))  %>%\n",
        "  top_n(40) %>%\n",
        "   ggplot(aes(Country,total, fill=Country))+\n",
        "  geom_bar(stat=\"identity\")+\n",
        "  coord_flip()+\n",
        "  guides(fill=FALSE)+\n",
        "  geom_text(aes(label=total), hjust=0, size=2)+\n",
        "  ylab(\"Total\") +\n",
        "  xlab(\"Country\") +\n",
        "  ggtitle(\"Cities organizations disclosing in 2020 by Country\")"
      ],
      "execution_count": null,
      "outputs": []
    },
    {
      "metadata": {
        "trusted": true,
        "_kg_hide-output": false,
        "id": "449vywHYniuk"
      },
      "cell_type": "code",
      "source": [
        "corporations_disclosing_2020 %>%\n",
        "  group_by(country) %>%\n",
        "  summarise(total=n()) %>%\n",
        "  mutate(country=reorder(country,total))  %>%\n",
        "  ggplot(aes(country,total, fill=country))+\n",
        "  geom_bar(stat=\"identity\")+\n",
        "  coord_flip()+\n",
        "  guides(fill=FALSE)+\n",
        "  geom_text(aes(label=total), hjust=0, size=3)+\n",
        "  ylab(\"Total\") +\n",
        "  xlab(\"Country\") +\n",
        "  ggtitle(\"Corporations disclosing in 2020 per Country\")"
      ],
      "execution_count": null,
      "outputs": []
    },
    {
      "metadata": {
        "trusted": true,
        "id": "rSKId4t9niun"
      },
      "cell_type": "code",
      "source": [
        "printOpportunitiesCorporation <- function(org){\n",
        "  df3<-corporations_disclosing_2020 %>%\n",
        "        filter(organization==org) %>%\n",
        "        select(country, primary_industry,primary_sector,primary_activity)\n",
        "\n",
        "          cat(\"COUNTRY:\",as.character(df3$country),\"CORPORATION: \",org,\"\\n\\n\")\n",
        "\n",
        "          cat(paste(\"PRIMARY INDUSTRY:\",df3$primary_industry,\", PRIMARY SECTOR:\",df3$primary_sector,\", PRIMARY ACTIVITY:\",df3$primary_activity,\"\\n\\n\"))\n",
        "\n",
        "\n",
        "  df2<-corporations_responses_2020 %>%\n",
        "        filter(organization==org, question_number==\"C2.4a\") %>%\n",
        "        select(question_unique_reference,response_value)\n",
        "\n",
        "      cat(org,\"OPPORTUNITIES :\\n\\n\")\n",
        "      cat(\"QUESTION: \",as.character(unique(df2$question_unique_reference)),\"\\n\\n\")\n",
        "      print(paste(\"RESPONSE: \",df2$response_value))\n",
        "\n",
        "\n",
        "}"
      ],
      "execution_count": null,
      "outputs": []
    },
    {
      "metadata": {
        "trusted": true,
        "id": "0KwVjMxcniuo"
      },
      "cell_type": "code",
      "source": [
        "printPartnership <- function(df){\n",
        "\n",
        "      if(nrow(df)!=0) {\n",
        "\n",
        "          for (org in df$organization) {\n",
        "\n",
        "              printOpportunitiesCorporation(org)\n",
        "\n",
        "              cat(\"\\n\\n******************************************************\\n\\n\")\n",
        "          }\n",
        "\n",
        "      }\n",
        "\n",
        "}"
      ],
      "execution_count": null,
      "outputs": []
    },
    {
      "metadata": {
        "trusted": true,
        "id": "yZloP87yniup"
      },
      "cell_type": "code",
      "source": [
        "printCorporations <- function(c,opportunity){\n",
        "  cat(\"\\n\\nCORPORATIONS BY OPPORTUNITIES:\\n\\n\")\n",
        "  if (opportunity %in% c(\"Development of clean energy technologies/businesses\",\"Development of energy efficiency measures and technologies\",\"Increased energy security\")){\n",
        "    cat(toupper(opportunity),\"\\n\\n\")\n",
        "    df2<-corporations_disclosing_2020 %>%\n",
        "        filter(primary_industry==\"Power generation\" , country==c) %>%\n",
        "        select(organization,primary_industry,primary_sector,primary_activity)\n",
        "\n",
        "  }\n",
        "  else if (opportunity %in% c(\"Development of waste management sector\")){\n",
        "    cat(toupper(opportunity),\"\\n\\n\")\n",
        "    df2<-corporations_disclosing_2020 %>%\n",
        "        filter(primary_activity ==\"Waste management\" , country==c) %>%\n",
        "        select(organization,primary_industry,primary_sector,primary_activity)\n",
        "\n",
        "  }\n",
        "  else if (opportunity %in% c(\"Development of tourism industry and eco-tourism sector\")){\n",
        "    cat(toupper(opportunity),\"\\n\\n\")\n",
        "    df2<-corporations_disclosing_2020 %>%\n",
        "        filter(primary_industry ==\"Hospitality\" , country==c) %>%\n",
        "        select(organization,primary_industry,primary_sector,primary_activity)\n",
        "\n",
        "  }\n",
        "  else if (opportunity %in% c(\"Development of sustainable transport sector\")){\n",
        "    cat(toupper(opportunity),\"\\n\\n\")\n",
        "    df2<-corporations_disclosing_2020 %>%\n",
        "        filter(primary_industry ==\"Transportation services\"  , country==c) %>%\n",
        "        select(organization,primary_industry,primary_sector,primary_activity)\n",
        "\n",
        "  }\n",
        "  else if (opportunity %in% c(\"Development of sustainable construction/real estate sector\")){\n",
        "    cat(toupper(opportunity),\"\\n\\n\")\n",
        "    df2<-corporations_disclosing_2020 %>%\n",
        "        filter(primary_sector ==\"Construction\"   , country==c) %>%\n",
        "        select(organization,primary_industry,primary_sector,primary_activity)\n",
        "  }\n",
        "  else if (opportunity %in% c(\"Development of local sustainable food businesses\",\"Increased food security\",\"Extended agricultural seasons\")){\n",
        "    cat(toupper(opportunity),\"\\n\\n\")\n",
        "    df2<-corporations_disclosing_2020 %>%\n",
        "        filter(primary_industry ==\"Food, beverage & agriculture\"   , country==c) %>%\n",
        "        select(organization,primary_industry,primary_sector,primary_activity)\n",
        "\n",
        "  }\n",
        "  else if (opportunity %in% c(\"Increased opportunities for investment in infrastructure projects\")){\n",
        "    cat(toupper(opportunity),\"\\n\\n\")\n",
        "    df2<-corporations_disclosing_2020 %>%\n",
        "        filter(primary_industry ==\"Infrastructure\" , country==c) %>%\n",
        "        select(organization,primary_industry,primary_sector,primary_activity)\n",
        "\n",
        "  }\n",
        "  else if (opportunity %in% c(\"Increased opportunities for trade (nationally or internationally)\")){\n",
        "    cat(toupper(opportunity),\"\\n\\n\")\n",
        "    df2<-corporations_disclosing_2020 %>%\n",
        "        filter(primary_industry ==\"Retail\" , country==c) %>%\n",
        "        select(organization,primary_industry,primary_sector,primary_activity)\n",
        "\n",
        "  }\n",
        "  printPartnership(df2)\n",
        "}"
      ],
      "execution_count": null,
      "outputs": []
    },
    {
      "metadata": {
        "trusted": true,
        "id": "WQnaf8fwniuq"
      },
      "cell_type": "code",
      "source": [
        "printCountryOpportunities <- function(country) {\n",
        "\n",
        "\n",
        "  df_org<-cities_responses_2020 %>%\n",
        "    filter(Question.Number==\"6.0\", Column.Name==\"Opportunity\", Country==country, ) %>%\n",
        "    select(Organization)\n",
        "\n",
        "\n",
        "  for (org in unique(df_org$Organization)) {\n",
        "    df<-cities_responses_2020 %>%\n",
        "       filter(Question.Number ==\"6.0\", Column.Name==\"Opportunity\", Country==country, Organization==org) %>%\n",
        "       select(Question.Name, Response.Answer)\n",
        "\n",
        "    df_city<- cities_disclosing_2020 %>%\n",
        "      filter(Country==country,Organization==org) %>%\n",
        "      select(City)\n",
        "    city <-df_city$City\n",
        "\n",
        "    if (city==\"\") next\n",
        "\n",
        "    cat(\"_____________________________________________________________\\n\\n\")\n",
        "    cat(paste(\"COUNTRY:\",country,\", CITY:\",city,\", ORGANIZATION:\",org,\"\\n\\n\"))\n",
        "\n",
        "    cat(\"QUESTION: \",unique(as.character(df$Question.Name)),\"\\n\\n\")\n",
        "    cat(\"OPPORTUNITIES:\\n\\n\")\n",
        "    opportunities <-unique(as.character(df$Response.Answer))\n",
        "    print(opportunities)\n",
        "\n",
        "    cat(\"\\n\\n\")\n",
        "  }\n",
        "}"
      ],
      "execution_count": null,
      "outputs": []
    },
    {
      "metadata": {
        "trusted": true,
        "id": "KeR38sVcnius"
      },
      "cell_type": "code",
      "source": [
        "printCityOrganization <- function(country, org) {\n",
        "      df<-cities_responses_2020 %>%\n",
        "         filter(Question.Number ==\"6.0\", Column.Name==\"Opportunity\", Country==country, Organization==org) %>%\n",
        "         select(Question.Name, Response.Answer)\n",
        "\n",
        "      df_city<- cities_disclosing_2020 %>%\n",
        "        filter(Country==country,Organization==org) %>%\n",
        "        select(City)\n",
        "      city <-df_city$City\n",
        "\n",
        "      if (city!=\"\") {\n",
        "\n",
        "          cat(\"_____________________________________________________________\\n\\n\")\n",
        "          cat(paste(\"COUNTRY:\",country,\", CITY:\",city,\", ORGANIZATION:\",org,\"\\n\\n\"))\n",
        "\n",
        "          cat(\"QUESTION: \",unique(as.character(df$Question.Name)),\"\\n\\n\")\n",
        "          cat(\"OPPORTUNITIES:\\n\\n\")\n",
        "          opportunities <-unique(as.character(df$Response.Answer))\n",
        "          print(opportunities)\n",
        "\n",
        "          cat(\"\\n\\n\")\n",
        "      }\n",
        "    }"
      ],
      "execution_count": null,
      "outputs": []
    },
    {
      "metadata": {
        "trusted": true,
        "id": "-0VQYtJ1niut"
      },
      "cell_type": "code",
      "source": [
        "#printOpportunitiesCorporation(\"TransAlta Corporation\")"
      ],
      "execution_count": null,
      "outputs": []
    },
    {
      "metadata": {
        "trusted": true,
        "id": "l-cfdW-_niut"
      },
      "cell_type": "code",
      "source": [
        "#printCountryOpportunities(\"China\")"
      ],
      "execution_count": null,
      "outputs": []
    },
    {
      "metadata": {
        "trusted": true,
        "id": "h_zk2cR1niuu"
      },
      "cell_type": "code",
      "source": [
        "printCountryOpportunities(\"China, Hong Kong Special Administrative Region\")"
      ],
      "execution_count": null,
      "outputs": []
    },
    {
      "metadata": {
        "trusted": true,
        "id": "extK2asNniuu"
      },
      "cell_type": "code",
      "source": [
        "#printCorporations(\"United States of America\",\"Development of clean energy technologies/businesses\")"
      ],
      "execution_count": null,
      "outputs": []
    },
    {
      "metadata": {
        "trusted": true,
        "id": "WpP8J1skniuu"
      },
      "cell_type": "code",
      "source": [
        "printCityOrganization(\"China\",\"Chengdu Municipal Government\")\n"
      ],
      "execution_count": null,
      "outputs": []
    },
    {
      "metadata": {
        "id": "7OAbv-n8niuw"
      },
      "cell_type": "markdown",
      "source": [
        "## Part 4: Modeling\n",
        "\n",
        "A dataset is built with the cities' answers to the questions:\n",
        "\n",
        "6.0 Please indicate the opportunities your city has identified as a result of addressing climate change and describe how the city is positioning itself to take advantage of these opportunities.\n",
        "\n",
        "Select from:\n",
        "* Development of clean energy technologies / businesses Text field\n",
        "* Development of energy efficiency measures and technologies\n",
        "* Development of waste management sector\n",
        "* Development of water management sector\n",
        "* Development of circular economy models and businesses\n",
        "* Development of tourism industry and eco-tourism sector\n",
        "* Development of sustainable transport sector\n",
        "* Development of sustainable construction / real estate sector\n",
        "* Development of local sustainable food businesses\n",
        "* Increased opportunities for investment in infrastructure projects\n",
        "* Increased opportunities for trade (nationally or internationally)\n",
        "* Additional funding opportunities\n",
        "* Increase opportunities for partnerships\n",
        "* Improved flood risk mitigation\n",
        "* Increased water security\n",
        "* Increased energy security\n",
        "* Development of climate change resiliency projects\n",
        "* Increased food security\n",
        "* Extended agricultural seasons\n",
        "* Reduced risk to natural capital\n",
        "* Reduced risk to human health\n",
        "* Creation / development of carbon markets\n",
        "* Carbon tax revenue\n",
        "* Development of resource conservation and management\n",
        "* Improved efficiency of municipal operations\n",
        "* Other, please specify\n",
        "* No opportunities identified\n",
        "\n",
        "6.2 Does your city collaborate in partnership with businesses in your city on sustainability projects?\n",
        "\n",
        "* Yes\n",
        "* In progress\n",
        "* Intending to undertake in the next 2 years\n",
        "* Not intending to undertake\n",
        "* Do not know\n",
        "\n",
        "\n",
        "The following numerical variables are added to the dataset: current population of the city and size of the territory in square km.\n",
        "\n",
        "The answer to question 6.2 is the target to predict.\n",
        "\n",
        "In the sample, the total per response is given by the following plot:\n"
      ]
    },
    {
      "metadata": {
        "trusted": true,
        "id": "jwmF08cDniux"
      },
      "cell_type": "code",
      "source": [
        "df<-cities_responses_2020 %>%\n",
        "       filter(Question.Number ==\"6.2\") %>%\n",
        "       select(Country,Organization,Response.Answer)\n",
        "\n",
        "df$Response.Answer <- as.factor(as.character(df$Response.Answer))\n",
        "\n",
        "df %>%\n",
        "  group_by(Response.Answer) %>%\n",
        "  summarise(total=n()) %>%\n",
        "  mutate(Response.Answer=reorder(Response.Answer,total))  %>%\n",
        "  ggplot(aes(Response.Answer,total, fill=Response.Answer))+\n",
        "  geom_bar(stat=\"identity\")+\n",
        "  coord_flip()+\n",
        "  guides(fill=FALSE)+\n",
        "  geom_text(aes(label=total), hjust=0, size=2)+\n",
        "  ylab(\"Total\") +\n",
        "  xlab(\"Answer\") +\n",
        "  ggtitle(\"Does your city collaborate in partnership with businesses\",subtitle =  \" in your city on sustainability projects?\")"
      ],
      "execution_count": null,
      "outputs": []
    },
    {
      "metadata": {
        "id": "3GhcMirvniu0"
      },
      "cell_type": "markdown",
      "source": [
        "### H2o Model"
      ]
    },
    {
      "metadata": {
        "trusted": true,
        "id": "U41fX5zHniu2"
      },
      "cell_type": "code",
      "source": [
        "df_cities <- cities_disclosing_2020\n",
        "df<-cities_responses_2020 %>%\n",
        "       filter(Question.Number ==\"0.5\", Column.Name==\"Current population\") %>%\n",
        "       select(Country,Organization,Response.Answer)\n",
        "df_cities <- merge(df_cities,df, by = c(\"Country\",\"Organization\"))\n",
        "df_cities$Response.Answer <- as.numeric(as.character(df_cities$Response.Answer))\n",
        "colnames(df_cities)[14] <- \"Current population\"\n",
        "\n",
        "\n",
        "df<-cities_responses_2020 %>%\n",
        "       filter(Question.Number ==\"0.6\", Column.Name==\"Land area of the city boundary as defined in question 0.1 (in square km)\") %>%\n",
        "       select(Country, Organization,Response.Answer)\n",
        "df_cities <- merge(df_cities,df, by = c(\"Country\",\"Organization\"))\n",
        "df_cities$Response.Answer <- as.numeric(as.character(df_cities$Response.Answer))\n",
        "colnames(df_cities)[15] <- \"Land area square Km\"\n",
        "\n",
        "\n",
        "df<-cities_responses_2020 %>%\n",
        "       filter(Question.Number ==\"6.2\") %>%\n",
        "       select(Country,Organization,Response.Answer)\n",
        "df_cities <- merge(df_cities,df, by = c(\"Country\",\"Organization\"))\n",
        "colnames(df_cities)[16] <- \"target\"\n",
        "df_cities$target <- as.factor(as.character(df_cities$target))\n",
        "\n",
        "\n",
        "df<-cities_responses_2020 %>%\n",
        "       filter(Question.Number ==\"6.0\", Column.Name==\"Opportunity\") %>%\n",
        "       select(Country,Organization,Response.Answer)\n",
        "df_cities <- merge(df_cities,df, by = c(\"Country\",\"Organization\"))\n",
        "colnames(df_cities)[17] <- \"opportunity\"\n",
        "df_cities$opportunity <- as.character(df_cities$opportunity)\n",
        "df_cities$Country <- as.character(df_cities$Country)\n",
        "\n"
      ],
      "execution_count": null,
      "outputs": []
    },
    {
      "metadata": {
        "id": "ReMDli2Zniu3"
      },
      "cell_type": "markdown",
      "source": [
        "The non-existent responses from the target are deleted:"
      ]
    },
    {
      "metadata": {
        "trusted": true,
        "id": "o5YyJxbGniu4"
      },
      "cell_type": "code",
      "source": [
        "df_cities <-df_cities[-which(df_cities$target==\"\"),]\n",
        "df_cities$target <- as.factor(as.character(df_cities$target))"
      ],
      "execution_count": null,
      "outputs": []
    },
    {
      "metadata": {
        "id": "vWKsIAxzniu5"
      },
      "cell_type": "markdown",
      "source": [
        "The h2o model is created:"
      ]
    },
    {
      "metadata": {
        "trusted": true,
        "id": "eZC9Jxgsniu6"
      },
      "cell_type": "code",
      "source": [
        "h2o.init()"
      ],
      "execution_count": null,
      "outputs": []
    },
    {
      "metadata": {
        "id": "ouAbALGKniu7"
      },
      "cell_type": "markdown",
      "source": [
        "We build a training set made from 70% of the observations on which the model is trained and a testing set made from the remaining 30% of observations on which the model is tested:"
      ]
    },
    {
      "metadata": {
        "trusted": true,
        "id": "Yr_-1xlJniu7"
      },
      "cell_type": "code",
      "source": [
        "train <- createDataPartition(df_cities$target,p=0.7,list = FALSE)\n",
        "training_set <- df_cities[train,]\n",
        "testing_set <- df_cities[-train,]"
      ],
      "execution_count": null,
      "outputs": []
    },
    {
      "metadata": {
        "trusted": true,
        "id": "CH0WImv5niu8"
      },
      "cell_type": "code",
      "source": [
        "df_hf <- as.h2o(training_set)\n",
        "y <- \"target\"\n",
        "x <- names(training_set)[c(1,14,15,17)]\n",
        "\n",
        "aml <- h2o.automl(x = x, y = y,\n",
        "                  training_frame = df_hf,\n",
        "                  max_runtime_secs = 30)"
      ],
      "execution_count": null,
      "outputs": []
    },
    {
      "metadata": {
        "trusted": true,
        "id": "PlbXuSzaniu-"
      },
      "cell_type": "code",
      "source": [
        "lb <- aml@leaderboard\n",
        "lb"
      ],
      "execution_count": null,
      "outputs": []
    },
    {
      "metadata": {
        "id": "yZBAxHEynivB"
      },
      "cell_type": "markdown",
      "source": [
        "The leader model found is tested on the testing set:"
      ]
    },
    {
      "metadata": {
        "trusted": true,
        "id": "B3rM44ncnivC"
      },
      "cell_type": "code",
      "source": [
        "test <- as.h2o(testing_set)\n",
        "model <- aml@leader\n",
        "p1 = h2o.predict(model, newdata=test)"
      ],
      "execution_count": null,
      "outputs": []
    },
    {
      "metadata": {
        "id": "tluVcT7nnivI"
      },
      "cell_type": "markdown",
      "source": [
        "The accuracy is calculated on the testing set:"
      ]
    },
    {
      "metadata": {
        "trusted": true,
        "id": "o82cMnFZnivJ"
      },
      "cell_type": "code",
      "source": [
        "df2 <- as.data.frame(p1$predict)\n",
        "\n",
        "paste(\"Accuracy=\", mean(df2$predict==testing_set$target))"
      ],
      "execution_count": null,
      "outputs": []
    },
    {
      "metadata": {
        "id": "ZBLQerU6nivL"
      },
      "cell_type": "markdown",
      "source": [
        "The confusion matrix is constructed :"
      ]
    },
    {
      "metadata": {
        "trusted": true,
        "id": "5YF9dSHMnivM"
      },
      "cell_type": "code",
      "source": [
        "confusionMatrix(df2$predict,testing_set$target)"
      ],
      "execution_count": null,
      "outputs": []
    },
    {
      "metadata": {
        "id": "4iONcLUgnivS"
      },
      "cell_type": "markdown",
      "source": [
        "### Sentiment Analysys Model:"
      ]
    },
    {
      "metadata": {
        "trusted": true,
        "id": "ZeT_LeC9nivT"
      },
      "cell_type": "code",
      "source": [
        "df1<-cities_responses_2020 %>%\n",
        "         filter(Question.Number ==\"6.0\", Column.Name==\"Opportunity\", ) %>%\n",
        "         select(Country,Organization, Response.Answer)\n",
        "\n",
        "df2<-cities_responses_2020 %>%\n",
        "         filter(Question.Number ==\"6.2\") %>%\n",
        "         select(Country,Organization, Response.Answer)\n",
        "\n",
        "\n",
        "df1 <- merge(df1,df2 , by = c(\"Country\",\"Organization\"))\n",
        "colnames(df1)[3:4] <- c(\"opportunity\",\"target\")\n",
        "df1$opportunity <- as.factor(as.character(df1$opportunity))\n",
        "df1$target <- as.factor(as.character(df1$target))"
      ],
      "execution_count": null,
      "outputs": []
    },
    {
      "metadata": {
        "trusted": true,
        "id": "X5-47QO0nivW"
      },
      "cell_type": "code",
      "source": [
        "head(df1)"
      ],
      "execution_count": null,
      "outputs": []
    },
    {
      "metadata": {
        "id": "TWglkxlCnivZ"
      },
      "cell_type": "markdown",
      "source": [
        "A sentyment analysis model is built through a Boosting algorithm to predict the answer to the question:\n",
        "\n",
        "6.2 Does your city collaborate in partnership with businesses in your city on sustainability projects?\n",
        "\n",
        "In particular, the training set is 1500 observations, while the testing set is 1077 observations.\n",
        "\n",
        "The data on which the sentyment analysis model is built are: Country and opportunity of the dataset df1."
      ]
    },
    {
      "metadata": {
        "trusted": true,
        "id": "NnTuyX2vnivd"
      },
      "cell_type": "code",
      "source": [
        "data <- df1[sample(1:2577,size=2577,replace=FALSE),]\n",
        "matrix <- create_matrix(cbind(data[\"Country\"],data[\"opportunity\"]), language=\"english\",\n",
        "removeNumbers=TRUE, stemWords=FALSE)\n",
        "container <- create_container(matrix,as.numeric(data$target),trainSize=1:1500, testSize=1501:2577,\n",
        "virgin=FALSE)"
      ],
      "execution_count": null,
      "outputs": []
    },
    {
      "metadata": {
        "trusted": true,
        "id": "IszOQlSwnive"
      },
      "cell_type": "code",
      "source": [
        "models = train_models(container, algorithms=c(\"BOOSTING\"))\n",
        "\n",
        "results = classify_models(container, models)"
      ],
      "execution_count": null,
      "outputs": []
    },
    {
      "metadata": {
        "trusted": true,
        "id": "HyntQgOxnivg"
      },
      "cell_type": "code",
      "source": [
        "analytics = create_analytics(container, results)\n",
        "summary(analytics)"
      ],
      "execution_count": null,
      "outputs": []
    },
    {
      "metadata": {
        "id": "f1DM2EpKnivh"
      },
      "cell_type": "markdown",
      "source": [
        "As you can see, the Accuracy of the forecast is 82.91%"
      ]
    },
    {
      "metadata": {
        "trusted": true,
        "id": "auAuvsNdnivi"
      },
      "cell_type": "code",
      "source": [
        "paste(\"Accuracy=\",mean(analytics@document_summary$MANUAL_CODE==\n",
        "analytics@document_summary$LOGITBOOST_LABEL))"
      ],
      "execution_count": null,
      "outputs": []
    },
    {
      "metadata": {
        "id": "_OGs841tnivj"
      },
      "cell_type": "markdown",
      "source": [
        "## Part 6: Prediction"
      ]
    },
    {
      "metadata": {
        "trusted": true,
        "id": "0AcDu-hZnivk"
      },
      "cell_type": "code",
      "source": [
        "df_test <- data_frame(Country=\"Canada\",`Current population`=74003,`Land area square Km`=329, opportunity=\"Development of sustainable construction/real estate sector\")\n",
        "\n",
        "df_test <- as.h2o(df_test)\n",
        "p1 = h2o.predict(model, newdata=df_test)\n",
        "\n",
        "p2<-as.character(p1$predict)\n",
        "\n",
        "head(df_test)\n",
        "paste(\"Does your city collaborate in partnership with businesses in your city on sustainability projects?\", p2$predict[1,1])\n",
        "\n",
        "\n",
        "df_test <- data_frame(Country=\"Turkey\",`Current population`=482713,`Land area square Km`=25.2, opportunity=\"Reduced risk to human health\")\n",
        "\n",
        "df_test <- as.h2o(df_test)\n",
        "p1 = h2o.predict(model, newdata=df_test)\n",
        "\n",
        "p2<-as.character(p1$predict)\n",
        "\n",
        "head(df_test)\n",
        "paste(\"Does your city collaborate in partnership with businesses in your city on sustainability projects?\", p2$predict[1,1])"
      ],
      "execution_count": null,
      "outputs": []
    },
    {
      "metadata": {
        "id": "mt0Ijznanivn"
      },
      "cell_type": "markdown",
      "source": []
    }
  ],
  "metadata": {
    "kernelspec": {
      "name": "ir",
      "display_name": "R",
      "language": "R"
    },
    "language_info": {
      "name": "R",
      "codemirror_mode": "r",
      "pygments_lexer": "r",
      "mimetype": "text/x-r-source",
      "file_extension": ".r",
      "version": "3.6.3"
    },
    "colab": {
      "name": "Predicting city collaboration with business",
      "provenance": [],
      "include_colab_link": true
    }
  },
  "nbformat": 4,
  "nbformat_minor": 0
}